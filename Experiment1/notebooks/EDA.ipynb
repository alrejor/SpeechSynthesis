{
  "cells": [
    {
      "cell_type": "markdown",
      "metadata": {
        "id": "POTvto9lL45C"
      },
      "source": [
        "# Unzip files"
      ]
    },
    {
      "cell_type": "code",
      "execution_count": null,
      "metadata": {
        "id": "C9S-5YukcOU_"
      },
      "outputs": [],
      "source": [
        "import zipfile\n",
        "import os\n",
        "import shutil\n",
        "import glob\n",
        "import pandas as pd\n",
        "import numpy as np\n",
        "\n",
        "def unzip_files(zip_file_path):\n",
        "\n",
        "  destination_folder = zip_file_path.split('.zip')[0]\n",
        "\n",
        "  # Create the destination folder if it doesn't exist\n",
        "  if not os.path.exists(destination_folder):\n",
        "      os.makedirs(destination_folder)\n",
        "\n",
        "  # Open the zip file\n",
        "  with zipfile.ZipFile(zip_file_path, 'r') as zip_ref:\n",
        "      # Extract all contents to the destination folder\n",
        "      zip_ref.extractall(destination_folder)\n",
        "\n",
        "  print(f\"Contents of '{zip_file_path}' extracted to '{destination_folder}'.\")"
      ]
    },
    {
      "cell_type": "code",
      "execution_count": null,
      "metadata": {
        "colab": {
          "base_uri": "https://localhost:8080/"
        },
        "id": "V_V-Gb6RLzar",
        "outputId": "058ecec7-9665-4991-a5b0-1199ce046144"
      },
      "outputs": [
        {
          "name": "stdout",
          "output_type": "stream",
          "text": [
            "Contents of 'audio.zip' extracted to 'audio'.\n"
          ]
        }
      ],
      "source": [
        "unzip_files('audio.zip')\n",
        "# unzip_files('synthesized_audios.zip')"
      ]
    },
    {
      "cell_type": "markdown",
      "metadata": {
        "id": "hg9tb3sbNtIn"
      },
      "source": [
        "# Prepare metadata"
      ]
    },
    {
      "cell_type": "code",
      "execution_count": null,
      "metadata": {
        "colab": {
          "base_uri": "https://localhost:8080/",
          "height": 1000
        },
        "id": "wdp8Hd5aNsRZ",
        "outputId": "1f169d6e-cf88-4852-83ea-75e5cfe3a634"
      },
      "outputs": [
        {
          "data": {
            "application/vnd.google.colaboratory.intrinsic+json": {
              "summary": "{\n  \"name\": \"metadata_real\",\n  \"rows\": 377,\n  \"fields\": [\n    {\n      \"column\": \"Audio ID\",\n      \"properties\": {\n        \"dtype\": \"string\",\n        \"num_unique_values\": 377,\n        \"samples\": [\n          \"1188_133604_000061_000002\",\n          \"1089_134691_000013_000002\",\n          \"1089_134691_000043_000000\"\n        ],\n        \"semantic_type\": \"\",\n        \"description\": \"\"\n      }\n    },\n    {\n      \"column\": \"Original text\",\n      \"properties\": {\n        \"dtype\": \"string\",\n        \"num_unique_values\": 375,\n        \"samples\": [\n          \"I have always found them; and more,--I repeat it with joy, with triumph,--I have always found some proof of human perversity or error.\",\n          \"Hab\\u00eda acudido a su lado enseguida, como era su deber.\",\n          \"\\u2014\\u00bfY cu\\u00e1ndo fue la \\u00faltima vez que visteis a Antonio?\"\n        ],\n        \"semantic_type\": \"\",\n        \"description\": \"\"\n      }\n    },\n    {\n      \"column\": \"Duration\",\n      \"properties\": {\n        \"dtype\": \"number\",\n        \"std\": 5.362890662813077,\n        \"min\": 0.4,\n        \"max\": 50.64027210884354,\n        \"num_unique_values\": 359,\n        \"samples\": [\n          9.56,\n          1.98530612244898,\n          4.139875\n        ],\n        \"semantic_type\": \"\",\n        \"description\": \"\"\n      }\n    },\n    {\n      \"column\": \"Speaker ID\",\n      \"properties\": {\n        \"dtype\": \"category\",\n        \"num_unique_values\": 18,\n        \"samples\": [\n          \"locutor2\",\n          \"locutor1\",\n          \"1040\"\n        ],\n        \"semantic_type\": \"\",\n        \"description\": \"\"\n      }\n    },\n    {\n      \"column\": \"Dataset\",\n      \"properties\": {\n        \"dtype\": \"category\",\n        \"num_unique_values\": 3,\n        \"samples\": [\n          \"Spanish\",\n          \"train\",\n          \"test\"\n        ],\n        \"semantic_type\": \"\",\n        \"description\": \"\"\n      }\n    },\n    {\n      \"column\": \"Chapter ID\",\n      \"properties\": {\n        \"dtype\": \"number\",\n        \"std\": 48638.04654789971,\n        \"min\": 1181.0,\n        \"max\": 135884.0,\n        \"num_unique_values\": 15,\n        \"samples\": [\n          123859.0,\n          127105.0,\n          1241.0\n        ],\n        \"semantic_type\": \"\",\n        \"description\": \"\"\n      }\n    },\n    {\n      \"column\": \"Utterance ID\",\n      \"properties\": {\n        \"dtype\": \"category\",\n        \"num_unique_values\": 182,\n        \"samples\": [\n          \"000038_000014\",\n          \"000067_000000\",\n          \"000017_000006\"\n        ],\n        \"semantic_type\": \"\",\n        \"description\": \"\"\n      }\n    },\n    {\n      \"column\": \"Sex\",\n      \"properties\": {\n        \"dtype\": \"category\",\n        \"num_unique_values\": 2,\n        \"samples\": [\n          \"Male\",\n          \"Female\"\n        ],\n        \"semantic_type\": \"\",\n        \"description\": \"\"\n      }\n    }\n  ]\n}",
              "type": "dataframe",
              "variable_name": "metadata_real"
            },
            "text/html": [
              "\n",
              "  <div id=\"df-06eab55c-596f-45a4-80c5-c3573875f678\" class=\"colab-df-container\">\n",
              "    <div>\n",
              "<style scoped>\n",
              "    .dataframe tbody tr th:only-of-type {\n",
              "        vertical-align: middle;\n",
              "    }\n",
              "\n",
              "    .dataframe tbody tr th {\n",
              "        vertical-align: top;\n",
              "    }\n",
              "\n",
              "    .dataframe thead th {\n",
              "        text-align: right;\n",
              "    }\n",
              "</style>\n",
              "<table border=\"1\" class=\"dataframe\">\n",
              "  <thead>\n",
              "    <tr style=\"text-align: right;\">\n",
              "      <th></th>\n",
              "      <th>Audio ID</th>\n",
              "      <th>Original text</th>\n",
              "      <th>Duration</th>\n",
              "      <th>Speaker ID</th>\n",
              "      <th>Dataset</th>\n",
              "      <th>Chapter ID</th>\n",
              "      <th>Utterance ID</th>\n",
              "      <th>Sex</th>\n",
              "    </tr>\n",
              "  </thead>\n",
              "  <tbody>\n",
              "    <tr>\n",
              "      <th>0</th>\n",
              "      <td>locutor2_audio_364</td>\n",
              "      <td>Oyó su propio gemido.</td>\n",
              "      <td>1.578957</td>\n",
              "      <td>locutor2</td>\n",
              "      <td>Spanish</td>\n",
              "      <td>NaN</td>\n",
              "      <td>NaN</td>\n",
              "      <td>Female</td>\n",
              "    </tr>\n",
              "    <tr>\n",
              "      <th>1</th>\n",
              "      <td>locutor2_audio_15215_15216</td>\n",
              "      <td>Ella se hizo a un lado, tratando de no darle t...</td>\n",
              "      <td>6.269388</td>\n",
              "      <td>locutor2</td>\n",
              "      <td>Spanish</td>\n",
              "      <td>NaN</td>\n",
              "      <td>NaN</td>\n",
              "      <td>Female</td>\n",
              "    </tr>\n",
              "    <tr>\n",
              "      <th>2</th>\n",
              "      <td>locutor2_audio_29797</td>\n",
              "      <td>—Es una pena que no hayamos podido volver a ve...</td>\n",
              "      <td>5.421859</td>\n",
              "      <td>locutor2</td>\n",
              "      <td>Spanish</td>\n",
              "      <td>NaN</td>\n",
              "      <td>NaN</td>\n",
              "      <td>Female</td>\n",
              "    </tr>\n",
              "    <tr>\n",
              "      <th>3</th>\n",
              "      <td>locutor2_audio_7682</td>\n",
              "      <td>Fue debidamente informada sobre la familia.</td>\n",
              "      <td>2.925714</td>\n",
              "      <td>locutor2</td>\n",
              "      <td>Spanish</td>\n",
              "      <td>NaN</td>\n",
              "      <td>NaN</td>\n",
              "      <td>Female</td>\n",
              "    </tr>\n",
              "    <tr>\n",
              "      <th>4</th>\n",
              "      <td>locutor2_audio_18383</td>\n",
              "      <td>Le pedirían a Miranda que fuera la madrina.</td>\n",
              "      <td>2.240726</td>\n",
              "      <td>locutor2</td>\n",
              "      <td>Spanish</td>\n",
              "      <td>NaN</td>\n",
              "      <td>NaN</td>\n",
              "      <td>Female</td>\n",
              "    </tr>\n",
              "    <tr>\n",
              "      <th>...</th>\n",
              "      <td>...</td>\n",
              "      <td>...</td>\n",
              "      <td>...</td>\n",
              "      <td>...</td>\n",
              "      <td>...</td>\n",
              "      <td>...</td>\n",
              "      <td>...</td>\n",
              "      <td>...</td>\n",
              "    </tr>\n",
              "    <tr>\n",
              "      <th>115</th>\n",
              "      <td>1320_122612_000007_000001</td>\n",
              "      <td>Human natur' is weak, and it is possible we ma...</td>\n",
              "      <td>4.760000</td>\n",
              "      <td>1320</td>\n",
              "      <td>test</td>\n",
              "      <td>122612.0</td>\n",
              "      <td>000007_000001</td>\n",
              "      <td>Male</td>\n",
              "    </tr>\n",
              "    <tr>\n",
              "      <th>116</th>\n",
              "      <td>1320_122612_000030_000002</td>\n",
              "      <td>Pursuing the direction given by this discovery...</td>\n",
              "      <td>9.150000</td>\n",
              "      <td>1320</td>\n",
              "      <td>test</td>\n",
              "      <td>122612.0</td>\n",
              "      <td>000030_000002</td>\n",
              "      <td>Male</td>\n",
              "    </tr>\n",
              "    <tr>\n",
              "      <th>117</th>\n",
              "      <td>1320_122612_000035_000006</td>\n",
              "      <td>By the Lord, it is no longer than a child's an...</td>\n",
              "      <td>4.870000</td>\n",
              "      <td>1320</td>\n",
              "      <td>test</td>\n",
              "      <td>122612.0</td>\n",
              "      <td>000035_000006</td>\n",
              "      <td>Male</td>\n",
              "    </tr>\n",
              "    <tr>\n",
              "      <th>118</th>\n",
              "      <td>1320_122612_000040_000001</td>\n",
              "      <td>If anything should happen, the call will be th...</td>\n",
              "      <td>3.800083</td>\n",
              "      <td>1320</td>\n",
              "      <td>test</td>\n",
              "      <td>122612.0</td>\n",
              "      <td>000040_000001</td>\n",
              "      <td>Male</td>\n",
              "    </tr>\n",
              "    <tr>\n",
              "      <th>119</th>\n",
              "      <td>1320_122612_000009_000004</td>\n",
              "      <td>The eyes of the whole party followed the unexp...</td>\n",
              "      <td>7.150000</td>\n",
              "      <td>1320</td>\n",
              "      <td>test</td>\n",
              "      <td>122612.0</td>\n",
              "      <td>000009_000004</td>\n",
              "      <td>Male</td>\n",
              "    </tr>\n",
              "  </tbody>\n",
              "</table>\n",
              "<p>377 rows × 8 columns</p>\n",
              "</div>\n",
              "    <div class=\"colab-df-buttons\">\n",
              "\n",
              "  <div class=\"colab-df-container\">\n",
              "    <button class=\"colab-df-convert\" onclick=\"convertToInteractive('df-06eab55c-596f-45a4-80c5-c3573875f678')\"\n",
              "            title=\"Convert this dataframe to an interactive table.\"\n",
              "            style=\"display:none;\">\n",
              "\n",
              "  <svg xmlns=\"http://www.w3.org/2000/svg\" height=\"24px\" viewBox=\"0 -960 960 960\">\n",
              "    <path d=\"M120-120v-720h720v720H120Zm60-500h600v-160H180v160Zm220 220h160v-160H400v160Zm0 220h160v-160H400v160ZM180-400h160v-160H180v160Zm440 0h160v-160H620v160ZM180-180h160v-160H180v160Zm440 0h160v-160H620v160Z\"/>\n",
              "  </svg>\n",
              "    </button>\n",
              "\n",
              "  <style>\n",
              "    .colab-df-container {\n",
              "      display:flex;\n",
              "      gap: 12px;\n",
              "    }\n",
              "\n",
              "    .colab-df-convert {\n",
              "      background-color: #E8F0FE;\n",
              "      border: none;\n",
              "      border-radius: 50%;\n",
              "      cursor: pointer;\n",
              "      display: none;\n",
              "      fill: #1967D2;\n",
              "      height: 32px;\n",
              "      padding: 0 0 0 0;\n",
              "      width: 32px;\n",
              "    }\n",
              "\n",
              "    .colab-df-convert:hover {\n",
              "      background-color: #E2EBFA;\n",
              "      box-shadow: 0px 1px 2px rgba(60, 64, 67, 0.3), 0px 1px 3px 1px rgba(60, 64, 67, 0.15);\n",
              "      fill: #174EA6;\n",
              "    }\n",
              "\n",
              "    .colab-df-buttons div {\n",
              "      margin-bottom: 4px;\n",
              "    }\n",
              "\n",
              "    [theme=dark] .colab-df-convert {\n",
              "      background-color: #3B4455;\n",
              "      fill: #D2E3FC;\n",
              "    }\n",
              "\n",
              "    [theme=dark] .colab-df-convert:hover {\n",
              "      background-color: #434B5C;\n",
              "      box-shadow: 0px 1px 3px 1px rgba(0, 0, 0, 0.15);\n",
              "      filter: drop-shadow(0px 1px 2px rgba(0, 0, 0, 0.3));\n",
              "      fill: #FFFFFF;\n",
              "    }\n",
              "  </style>\n",
              "\n",
              "    <script>\n",
              "      const buttonEl =\n",
              "        document.querySelector('#df-06eab55c-596f-45a4-80c5-c3573875f678 button.colab-df-convert');\n",
              "      buttonEl.style.display =\n",
              "        google.colab.kernel.accessAllowed ? 'block' : 'none';\n",
              "\n",
              "      async function convertToInteractive(key) {\n",
              "        const element = document.querySelector('#df-06eab55c-596f-45a4-80c5-c3573875f678');\n",
              "        const dataTable =\n",
              "          await google.colab.kernel.invokeFunction('convertToInteractive',\n",
              "                                                    [key], {});\n",
              "        if (!dataTable) return;\n",
              "\n",
              "        const docLinkHtml = 'Like what you see? Visit the ' +\n",
              "          '<a target=\"_blank\" href=https://colab.research.google.com/notebooks/data_table.ipynb>data table notebook</a>'\n",
              "          + ' to learn more about interactive tables.';\n",
              "        element.innerHTML = '';\n",
              "        dataTable['output_type'] = 'display_data';\n",
              "        await google.colab.output.renderOutput(dataTable, element);\n",
              "        const docLink = document.createElement('div');\n",
              "        docLink.innerHTML = docLinkHtml;\n",
              "        element.appendChild(docLink);\n",
              "      }\n",
              "    </script>\n",
              "  </div>\n",
              "\n",
              "\n",
              "<div id=\"df-4e3749f4-ecff-45b8-927f-419e418158aa\">\n",
              "  <button class=\"colab-df-quickchart\" onclick=\"quickchart('df-4e3749f4-ecff-45b8-927f-419e418158aa')\"\n",
              "            title=\"Suggest charts\"\n",
              "            style=\"display:none;\">\n",
              "\n",
              "<svg xmlns=\"http://www.w3.org/2000/svg\" height=\"24px\"viewBox=\"0 0 24 24\"\n",
              "     width=\"24px\">\n",
              "    <g>\n",
              "        <path d=\"M19 3H5c-1.1 0-2 .9-2 2v14c0 1.1.9 2 2 2h14c1.1 0 2-.9 2-2V5c0-1.1-.9-2-2-2zM9 17H7v-7h2v7zm4 0h-2V7h2v10zm4 0h-2v-4h2v4z\"/>\n",
              "    </g>\n",
              "</svg>\n",
              "  </button>\n",
              "\n",
              "<style>\n",
              "  .colab-df-quickchart {\n",
              "      --bg-color: #E8F0FE;\n",
              "      --fill-color: #1967D2;\n",
              "      --hover-bg-color: #E2EBFA;\n",
              "      --hover-fill-color: #174EA6;\n",
              "      --disabled-fill-color: #AAA;\n",
              "      --disabled-bg-color: #DDD;\n",
              "  }\n",
              "\n",
              "  [theme=dark] .colab-df-quickchart {\n",
              "      --bg-color: #3B4455;\n",
              "      --fill-color: #D2E3FC;\n",
              "      --hover-bg-color: #434B5C;\n",
              "      --hover-fill-color: #FFFFFF;\n",
              "      --disabled-bg-color: #3B4455;\n",
              "      --disabled-fill-color: #666;\n",
              "  }\n",
              "\n",
              "  .colab-df-quickchart {\n",
              "    background-color: var(--bg-color);\n",
              "    border: none;\n",
              "    border-radius: 50%;\n",
              "    cursor: pointer;\n",
              "    display: none;\n",
              "    fill: var(--fill-color);\n",
              "    height: 32px;\n",
              "    padding: 0;\n",
              "    width: 32px;\n",
              "  }\n",
              "\n",
              "  .colab-df-quickchart:hover {\n",
              "    background-color: var(--hover-bg-color);\n",
              "    box-shadow: 0 1px 2px rgba(60, 64, 67, 0.3), 0 1px 3px 1px rgba(60, 64, 67, 0.15);\n",
              "    fill: var(--button-hover-fill-color);\n",
              "  }\n",
              "\n",
              "  .colab-df-quickchart-complete:disabled,\n",
              "  .colab-df-quickchart-complete:disabled:hover {\n",
              "    background-color: var(--disabled-bg-color);\n",
              "    fill: var(--disabled-fill-color);\n",
              "    box-shadow: none;\n",
              "  }\n",
              "\n",
              "  .colab-df-spinner {\n",
              "    border: 2px solid var(--fill-color);\n",
              "    border-color: transparent;\n",
              "    border-bottom-color: var(--fill-color);\n",
              "    animation:\n",
              "      spin 1s steps(1) infinite;\n",
              "  }\n",
              "\n",
              "  @keyframes spin {\n",
              "    0% {\n",
              "      border-color: transparent;\n",
              "      border-bottom-color: var(--fill-color);\n",
              "      border-left-color: var(--fill-color);\n",
              "    }\n",
              "    20% {\n",
              "      border-color: transparent;\n",
              "      border-left-color: var(--fill-color);\n",
              "      border-top-color: var(--fill-color);\n",
              "    }\n",
              "    30% {\n",
              "      border-color: transparent;\n",
              "      border-left-color: var(--fill-color);\n",
              "      border-top-color: var(--fill-color);\n",
              "      border-right-color: var(--fill-color);\n",
              "    }\n",
              "    40% {\n",
              "      border-color: transparent;\n",
              "      border-right-color: var(--fill-color);\n",
              "      border-top-color: var(--fill-color);\n",
              "    }\n",
              "    60% {\n",
              "      border-color: transparent;\n",
              "      border-right-color: var(--fill-color);\n",
              "    }\n",
              "    80% {\n",
              "      border-color: transparent;\n",
              "      border-right-color: var(--fill-color);\n",
              "      border-bottom-color: var(--fill-color);\n",
              "    }\n",
              "    90% {\n",
              "      border-color: transparent;\n",
              "      border-bottom-color: var(--fill-color);\n",
              "    }\n",
              "  }\n",
              "</style>\n",
              "\n",
              "  <script>\n",
              "    async function quickchart(key) {\n",
              "      const quickchartButtonEl =\n",
              "        document.querySelector('#' + key + ' button');\n",
              "      quickchartButtonEl.disabled = true;  // To prevent multiple clicks.\n",
              "      quickchartButtonEl.classList.add('colab-df-spinner');\n",
              "      try {\n",
              "        const charts = await google.colab.kernel.invokeFunction(\n",
              "            'suggestCharts', [key], {});\n",
              "      } catch (error) {\n",
              "        console.error('Error during call to suggestCharts:', error);\n",
              "      }\n",
              "      quickchartButtonEl.classList.remove('colab-df-spinner');\n",
              "      quickchartButtonEl.classList.add('colab-df-quickchart-complete');\n",
              "    }\n",
              "    (() => {\n",
              "      let quickchartButtonEl =\n",
              "        document.querySelector('#df-4e3749f4-ecff-45b8-927f-419e418158aa button');\n",
              "      quickchartButtonEl.style.display =\n",
              "        google.colab.kernel.accessAllowed ? 'block' : 'none';\n",
              "    })();\n",
              "  </script>\n",
              "</div>\n",
              "    </div>\n",
              "  </div>\n"
            ],
            "text/plain": [
              "                       Audio ID  \\\n",
              "0            locutor2_audio_364   \n",
              "1    locutor2_audio_15215_15216   \n",
              "2          locutor2_audio_29797   \n",
              "3           locutor2_audio_7682   \n",
              "4          locutor2_audio_18383   \n",
              "..                          ...   \n",
              "115   1320_122612_000007_000001   \n",
              "116   1320_122612_000030_000002   \n",
              "117   1320_122612_000035_000006   \n",
              "118   1320_122612_000040_000001   \n",
              "119   1320_122612_000009_000004   \n",
              "\n",
              "                                         Original text  Duration Speaker ID  \\\n",
              "0                                Oyó su propio gemido.  1.578957   locutor2   \n",
              "1    Ella se hizo a un lado, tratando de no darle t...  6.269388   locutor2   \n",
              "2    —Es una pena que no hayamos podido volver a ve...  5.421859   locutor2   \n",
              "3          Fue debidamente informada sobre la familia.  2.925714   locutor2   \n",
              "4          Le pedirían a Miranda que fuera la madrina.  2.240726   locutor2   \n",
              "..                                                 ...       ...        ...   \n",
              "115  Human natur' is weak, and it is possible we ma...  4.760000       1320   \n",
              "116  Pursuing the direction given by this discovery...  9.150000       1320   \n",
              "117  By the Lord, it is no longer than a child's an...  4.870000       1320   \n",
              "118  If anything should happen, the call will be th...  3.800083       1320   \n",
              "119  The eyes of the whole party followed the unexp...  7.150000       1320   \n",
              "\n",
              "     Dataset  Chapter ID   Utterance ID     Sex  \n",
              "0    Spanish         NaN            NaN  Female  \n",
              "1    Spanish         NaN            NaN  Female  \n",
              "2    Spanish         NaN            NaN  Female  \n",
              "3    Spanish         NaN            NaN  Female  \n",
              "4    Spanish         NaN            NaN  Female  \n",
              "..       ...         ...            ...     ...  \n",
              "115     test    122612.0  000007_000001    Male  \n",
              "116     test    122612.0  000030_000002    Male  \n",
              "117     test    122612.0  000035_000006    Male  \n",
              "118     test    122612.0  000040_000001    Male  \n",
              "119     test    122612.0  000009_000004    Male  \n",
              "\n",
              "[377 rows x 8 columns]"
            ]
          },
          "execution_count": 6,
          "metadata": {},
          "output_type": "execute_result"
        }
      ],
      "source": [
        "metadata_Spanish = pd.read_csv('audio/Spanish_metadata.csv')\n",
        "metadata_Spanish = metadata_Spanish.assign(Dataset='Spanish')\n",
        "\n",
        "metadata_test = pd.read_csv('audio/test_metadata.csv')\n",
        "metadata_test = metadata_test.assign(Dataset='test')\n",
        "\n",
        "metadata_train = pd.read_csv('audio/train_metadata.csv')\n",
        "metadata_train = metadata_train.assign(Dataset='train')\n",
        "\n",
        "metadata_real = pd.concat([metadata_Spanish, metadata_train, metadata_test])\n",
        "\n",
        "sexes_dict = {\n",
        "              # Spanish\n",
        "              'locutor1': 'Male',\n",
        "              'locutor2': 'Female',\n",
        "              'locutor3': 'Male',\n",
        "              'locutor4': 'Female',\n",
        "              'locutor5': 'Male',\n",
        "              'locutor6': 'Male',\n",
        "              # train\n",
        "              '103': 'Female',\n",
        "              '1034': 'Male',\n",
        "              '1040': 'Male',\n",
        "              '1069': 'Female',\n",
        "              '1235': 'Male',\n",
        "              '1088': 'Female',\n",
        "              # test\n",
        "              '1089': 'Male',\n",
        "              '1188': 'Male',\n",
        "              '121': 'Female',\n",
        "              '237': 'Female',\n",
        "              '1284': 'Female',\n",
        "              '1320': 'Male',\n",
        "              }\n",
        "\n",
        "metadata_real['Speaker ID'] = metadata_real['Speaker ID'].astype(str)\n",
        "metadata_real['Sex'] = metadata_real['Speaker ID'].map(sexes_dict)\n",
        "metadata_real"
      ]
    },
    {
      "cell_type": "markdown",
      "metadata": {
        "id": "slDNmYcvk-7g"
      },
      "source": [
        "# Plots"
      ]
    },
    {
      "cell_type": "markdown",
      "metadata": {
        "id": "UiZ4CPjgmRbZ"
      },
      "source": [
        "## Violin plot: distribution of sample duration"
      ]
    },
    {
      "cell_type": "code",
      "execution_count": null,
      "metadata": {
        "colab": {
          "base_uri": "https://localhost:8080/",
          "height": 472
        },
        "id": "6H8RS0GWsV4Q",
        "outputId": "17974198-59cc-49bf-e136-53575f7875ad"
      },
      "outputs": [
        {
          "data": {
            "image/png": "[encoded data removed]",
            "text/plain": [
              "<Figure size 640x480 with 1 Axes>"
            ]
          },
          "metadata": {},
          "output_type": "display_data"
        }
      ],
      "source": [
        "import seaborn as sns\n",
        "import matplotlib.pyplot as plt\n",
        "\n",
        "# Filter DataFrame by sex\n",
        "male_data = metadata_real[metadata_real['Sex'] == 'Male']\n",
        "female_data = metadata_real[metadata_real['Sex'] == 'Female']\n",
        "\n",
        "# Create violin plot\n",
        "plt.figure()\n",
        "sns.violinplot(x='Dataset', y='Duration', hue='Sex', data=metadata_real, split=True)\n",
        "plt.title('Distribution of sample duration')\n",
        "plt.xlabel('Dataset')\n",
        "plt.ylabel('Sample duration (seconds)')\n",
        "plt.show()\n"
      ]
    },
    {
      "cell_type": "markdown",
      "metadata": {
        "id": "RlgyAA3xmVf5"
      },
      "source": [
        "## Bar plot: sample distributions"
      ]
    },
    {
      "cell_type": "code",
      "execution_count": null,
      "metadata": {
        "colab": {
          "base_uri": "https://localhost:8080/",
          "height": 432
        },
        "id": "zmwdP09dk_rQ",
        "outputId": "af93ba81-ae99-47fb-c74c-7df539664586"
      },
      "outputs": [
        {
          "data": {
            "image/png": "[encoded data removed]",
            "text/plain": [
              "<Figure size 1000x600 with 1 Axes>"
            ]
          },
          "metadata": {},
          "output_type": "display_data"
        }
      ],
      "source": [
        "import seaborn as sns\n",
        "\n",
        "# Calculate total duration and count for each combination of dataset and sex\n",
        "duration_totals = metadata_real.groupby(['Dataset', 'Sex'])['Duration'].agg(['sum', 'count']).reset_index()\n",
        "\n",
        "# Create bar plot\n",
        "plt.figure(figsize=(10, 6))\n",
        "sns.barplot(x='Dataset', y='sum', hue='Sex', data=duration_totals, edgecolor='black')\n",
        "\n",
        "positions = [-0.35, 0.05, 0.65, 1.05, 1.65, 2.05]\n",
        "\n",
        "# Annotate each bar with the number of samples\n",
        "for index, row in duration_totals.iterrows():\n",
        "    plt.text(positions[index], row['sum'] + 6, f'{row[\"count\"]}' +' samples', color='black')\n",
        "\n",
        "plt.title('Sample distribution')\n",
        "plt.xlabel('Dataset')\n",
        "plt.ylabel('Total duration (seconds)')\n",
        "plt.show()\n"
      ]
    },
    {
      "cell_type": "code",
      "execution_count": null,
      "metadata": {
        "id": "iro81NXbEmt3"
      },
      "outputs": [],
      "source": [
        "# @title Get SAMPLING RATE OF SPANISH AUDIOS\n",
        "import wave\n",
        "import time\n",
        "def get_audio_sampling_rate(file_path):\n",
        "    with wave.open(file_path, 'rb') as audio_file:\n",
        "        frame_rate = audio_file.getframerate()\n",
        "\n",
        "    return frame_rate"
      ]
    },
    {
      "cell_type": "code",
      "execution_count": null,
      "metadata": {
        "colab": {
          "base_uri": "https://localhost:8080/"
        },
        "id": "UkB0eXuGFEof",
        "outputId": "53469d6c-14d0-48e3-ee20-ab5a80154ed8"
      },
      "outputs": [
        {
          "data": {
            "text/plain": [
              "22050"
            ]
          },
          "execution_count": 10,
          "metadata": {},
          "output_type": "execute_result"
        }
      ],
      "source": [
        "get_audio_sampling_rate('/content/audio/Spanish/locutor1_audio_1375.wav')"
      ]
    },
    {
      "cell_type": "code",
      "execution_count": null,
      "metadata": {
        "colab": {
          "base_uri": "https://localhost:8080/"
        },
        "id": "GKEWEoWA6aKt",
        "outputId": "87a726a5-1695-4ad3-af95-b7c10e7db60d"
      },
      "outputs": [
        {
          "data": {
            "text/plain": [
              "36.64760962773998"
            ]
          },
          "execution_count": 16,
          "metadata": {},
          "output_type": "execute_result"
        }
      ],
      "source": [
        "metadata_real['Duration'].sum() / 60 # total mins"
      ]
    }
  ],
  "metadata": {
    "colab": {
      "provenance": []
    },
    "kernelspec": {
      "display_name": "Python 3",
      "name": "python3"
    },
    "language_info": {
      "name": "python"
    }
  },
  "nbformat": 4,
  "nbformat_minor": 0
}
